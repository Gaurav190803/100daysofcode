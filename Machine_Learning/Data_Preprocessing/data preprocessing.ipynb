{
 "cells": [
  {
   "cell_type": "markdown",
   "id": "c46d291d",
   "metadata": {},
   "source": [
    "IMPORTING REQUIRED LIBRARIES"
   ]
  },
  {
   "cell_type": "code",
   "execution_count": 1,
   "id": "ac01f6ea",
   "metadata": {},
   "outputs": [],
   "source": [
    "import pandas as pd\n",
    "import numpy as np\n",
    "import matplotlib.pyplot as plt"
   ]
  },
  {
   "cell_type": "markdown",
   "id": "5c229109",
   "metadata": {},
   "source": [
    "IMPORTING DATASET INTO VARIABLE USING PANDAS\n"
   ]
  },
  {
   "cell_type": "code",
   "execution_count": 2,
   "id": "2cbc40b9",
   "metadata": {},
   "outputs": [],
   "source": [
    "dataset = pd.read_csv(\"Data.csv\")"
   ]
  },
  {
   "cell_type": "markdown",
   "id": "57fb60f2",
   "metadata": {},
   "source": [
    "SEPERATING X AND Y FEATURES IN ORDER TO MAP"
   ]
  },
  {
   "cell_type": "code",
   "execution_count": 3,
   "id": "b016ac49",
   "metadata": {},
   "outputs": [],
   "source": [
    "X = dataset.iloc[:,:-1].values         # X is know as features\n",
    "Y = dataset.iloc[:,-1].values          # Y is knows as labels"
   ]
  },
  {
   "cell_type": "markdown",
   "id": "2a2a7663",
   "metadata": {},
   "source": [
    "iloc means index location and helps to select all features x and result y "
   ]
  },
  {
   "cell_type": "markdown",
   "id": "9623aff1",
   "metadata": {},
   "source": [
    "\n",
    "TALKING CARE OF MISSING DATA"
   ]
  },
  {
   "cell_type": "code",
   "execution_count": 4,
   "id": "91d93b16",
   "metadata": {},
   "outputs": [],
   "source": [
    "from sklearn.impute import SimpleImputer                                   #library used to deal with missing data\n",
    "imputer = SimpleImputer()                                                  #created an instance of the class simpleimputer \n",
    "imputer  = SimpleImputer(missing_values = np.nan , strategy = \"mean\")\n",
    "imputer.fit(X[:,1:3])                                                      #fitting means to train the data set and calculate things such as deviation\n",
    "X[:,1:3] = imputer.transform(X[:,1:3])                                     #to change the actual values we use transfrom"
   ]
  },
  {
   "cell_type": "markdown",
   "id": "ab823710",
   "metadata": {},
   "source": [
    "DEALING WITH CATEGORICAL VALUES SUCH AS COUNTRY NAME"
   ]
  },
  {
   "cell_type": "code",
   "execution_count": 5,
   "id": "6f873ee9",
   "metadata": {},
   "outputs": [],
   "source": [
    "from sklearn.compose import ColumnTransformer\n",
    "from sklearn.preprocessing import OneHotEncoder \n",
    "#we will use these to libraries for encoding categorical values"
   ]
  },
  {
   "cell_type": "markdown",
   "id": "f0326600",
   "metadata": {},
   "source": [
    "we are using one hot encoder as out encoding and only transforming the first column "
   ]
  },
  {
   "cell_type": "code",
   "execution_count": 6,
   "id": "e1919cf7",
   "metadata": {},
   "outputs": [
    {
     "name": "stdout",
     "output_type": "stream",
     "text": [
      "[[1.0 0.0 0.0 44.0 72000.0]\n",
      " [0.0 0.0 1.0 27.0 48000.0]\n",
      " [0.0 1.0 0.0 30.0 54000.0]\n",
      " [0.0 0.0 1.0 38.0 61000.0]\n",
      " [0.0 1.0 0.0 40.0 63777.77777777778]\n",
      " [1.0 0.0 0.0 35.0 58000.0]\n",
      " [0.0 0.0 1.0 38.77777777777778 52000.0]\n",
      " [1.0 0.0 0.0 48.0 79000.0]\n",
      " [0.0 1.0 0.0 50.0 83000.0]\n",
      " [1.0 0.0 0.0 37.0 67000.0]]\n"
     ]
    }
   ],
   "source": [
    "ct = ColumnTransformer(transformers = [(\"encoding\",OneHotEncoder(),[0])],remainder = \"passthrough\")   #passthrough will copy remaining features as it is\n",
    "X = np.array(ct.fit_transform(X))\n",
    "print(X)             #as u can see the country column is succesfully encoded"
   ]
  },
  {
   "cell_type": "markdown",
   "id": "911a948e",
   "metadata": {},
   "source": [
    "now we will encode our label(Y) from yess no to numbers"
   ]
  },
  {
   "cell_type": "code",
   "execution_count": 7,
   "id": "075f887a",
   "metadata": {},
   "outputs": [],
   "source": [
    "from sklearn.preprocessing import LabelEncoder\n",
    "le = LabelEncoder() \n",
    "Y = le.fit_transform(Y)         #and we are done with categorical encoding !!"
   ]
  },
  {
   "cell_type": "markdown",
   "id": "68bf6b53",
   "metadata": {},
   "source": [
    "SPLITTING DATA INTO TRAIN AND TEST SET"
   ]
  },
  {
   "cell_type": "code",
   "execution_count": 8,
   "id": "f55edc69",
   "metadata": {},
   "outputs": [],
   "source": [
    "from sklearn.model_selection import train_test_split\n",
    "X_train,X_test,Y_train,Y_test = train_test_split(X,Y,test_size = 0.2,random_state = 1)   "
   ]
  },
  {
   "cell_type": "markdown",
   "id": "28860b2e",
   "metadata": {},
   "source": [
    "FEATURE SCALING"
   ]
  },
  {
   "cell_type": "markdown",
   "id": "250e3a34",
   "metadata": {},
   "source": [
    "now for scaling we have two procedures \n",
    "STANDARDIZATION - useful in every case         --we will only learn to do this\n",
    "NORMALIZATION - useful onlt in cases where values are normalized\n",
    "\n",
    "stndr = x - mean(x)/standard deviation(x)       ranges from -3 to +3\n",
    "\n",
    "norml = x - min(x)/max(x) - min(x)              ranges from 0 to 1\n"
   ]
  },
  {
   "cell_type": "code",
   "execution_count": 9,
   "id": "7ec494f7",
   "metadata": {},
   "outputs": [
    {
     "name": "stdout",
     "output_type": "stream",
     "text": [
      "[[0.0 0.0 1.0 -0.19159184384578545 -1.0781259408412425]\n",
      " [0.0 1.0 0.0 -0.014117293757057777 -0.07013167641635372]\n",
      " [1.0 0.0 0.0 0.566708506533324 0.633562432710455]\n",
      " [0.0 0.0 1.0 -0.30453019390224867 -0.30786617274297867]\n",
      " [0.0 0.0 1.0 -1.9018011447007988 -1.420463615551582]\n",
      " [1.0 0.0 0.0 1.1475343068237058 1.232653363453549]\n",
      " [0.0 1.0 0.0 1.4379472069688968 1.5749910381638885]\n",
      " [1.0 0.0 0.0 -0.7401495441200351 -0.5646194287757332]]\n"
     ]
    }
   ],
   "source": [
    "from sklearn.preprocessing import StandardScaler\n",
    "sc = StandardScaler()\n",
    "X_train[:,3:] = sc.fit_transform(X_train[:,3:])\n",
    "print(X_train)"
   ]
  },
  {
   "cell_type": "code",
   "execution_count": 10,
   "id": "eb8f2054",
   "metadata": {},
   "outputs": [
    {
     "name": "stdout",
     "output_type": "stream",
     "text": [
      "[[0.0 1.0 0.0 -1.4661817944830124 -0.9069571034860727]\n",
      " [1.0 0.0 0.0 -0.44973664397484414 0.2056403393225306]]\n"
     ]
    }
   ],
   "source": [
    "X_test[:,3:] = sc.transform(X_test[:,3:])\n",
    "print(X_test)"
   ]
  }
 ],
 "metadata": {
  "kernelspec": {
   "display_name": "Python 3.9.13 64-bit",
   "language": "python",
   "name": "python3"
  },
  "language_info": {
   "codemirror_mode": {
    "name": "ipython",
    "version": 3
   },
   "file_extension": ".py",
   "mimetype": "text/x-python",
   "name": "python",
   "nbconvert_exporter": "python",
   "pygments_lexer": "ipython3",
   "version": "3.9.13"
  },
  "vscode": {
   "interpreter": {
    "hash": "5fbf09beeb226f31643cf8482a7b7a9f96c63fd68effc395a3b34ff59c04187f"
   }
  }
 },
 "nbformat": 4,
 "nbformat_minor": 5
}
